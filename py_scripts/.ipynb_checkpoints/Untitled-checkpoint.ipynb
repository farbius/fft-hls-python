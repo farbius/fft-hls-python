{
 "cells": [
  {
   "cell_type": "code",
   "execution_count": 3,
   "id": "9b0bc470",
   "metadata": {},
   "outputs": [
    {
     "name": "stdout",
     "output_type": "stream",
     "text": [
      "(495+955.5j)\n",
      "(529+1092.5j)\n",
      "(32768+0j)\n",
      "(23170-23170j)\n",
      "-32768j\n",
      "(-23170-23170j)\n",
      "(-32768-0j)\n",
      "(-23170+23170j)\n",
      "(-0+32768j)\n",
      "(23170+23170j)\n"
     ]
    }
   ],
   "source": [
    "import numpy as np\n",
    "Ampl    = 2**15\n",
    "\n",
    "x = 1024 + 1j*2048\n",
    "y = 5000 + 1j*7000\n",
    "w = -500 - 1j*200\n",
    "\n",
    "def coef_init(Npoints):\n",
    "    \"\"\"\n",
    "    Twiddling coefficients generation \n",
    "    @param int Npoints:  length of FFT\n",
    "    @return wk_16 complex int16 coefficient array\n",
    "    \"\"\"\n",
    "    wk_16 = np.zeros(Npoints, dtype='complex')\n",
    "    for k in range(Npoints):\n",
    "        wk_16[k] = np.round(Ampl * np.exp(-1j*2*np.pi*k / Npoints))\n",
    "    return wk_16\n",
    "\n",
    "    \n",
    "def butter_time_int16(x, y, w):\n",
    "    \"\"\"\n",
    "    Radix 2 butterfly implementation (decimation-in-time) with rounding to int16 and scaling factor for output\n",
    "    @param complex int16 x:  FFT complex point (sample)\n",
    "    @param complex int16 y:  FFT complex point (sample)\n",
    "    @param complex int16 w:  Complex coefficient\n",
    "    @return x_t, y_t complex  int16 samples\n",
    "    \"\"\"\n",
    "    y_w = np.round((y * w)/Ampl) # rounding back to 16 bits after multiplication\n",
    "    y_t = x - y_w\n",
    "    x_t = x + y_w\n",
    "    return x_t/2, y_t/2\n",
    "\n",
    "\n",
    "x0, y0 = butter_time_int16(x, y, w)\n",
    "# print(x0)\n",
    "# print(y0)\n",
    "\n",
    "wk_16 = np.zeros(8, dtype=complex)\n",
    "wk_16 = coef_init(8)\n",
    "for k in range(8):\n",
    "    print(wk_16[k])\n",
    "    "
   ]
  },
  {
   "cell_type": "code",
   "execution_count": null,
   "id": "3d5a97d5",
   "metadata": {},
   "outputs": [],
   "source": []
  }
 ],
 "metadata": {
  "kernelspec": {
   "display_name": "Python 3 (ipykernel)",
   "language": "python",
   "name": "python3"
  },
  "language_info": {
   "codemirror_mode": {
    "name": "ipython",
    "version": 3
   },
   "file_extension": ".py",
   "mimetype": "text/x-python",
   "name": "python",
   "nbconvert_exporter": "python",
   "pygments_lexer": "ipython3",
   "version": "3.7.0"
  }
 },
 "nbformat": 4,
 "nbformat_minor": 5
}
